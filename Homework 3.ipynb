{
 "cells": [
  {
   "cell_type": "code",
   "execution_count": 1,
   "id": "bcc9de17",
   "metadata": {},
   "outputs": [],
   "source": [
    "import numpy as np"
   ]
  },
  {
   "cell_type": "code",
   "execution_count": 2,
   "id": "8f608e53",
   "metadata": {},
   "outputs": [],
   "source": [
    "def my_arange(number):\n",
    "    arange = np.full(int(number),int(number)) - np.arange(1, int(number)+1)\n",
    "    return(arange)"
   ]
  },
  {
   "cell_type": "code",
   "execution_count": 3,
   "id": "57872407",
   "metadata": {},
   "outputs": [
    {
     "data": {
      "text/plain": [
       "array([9, 8, 7, 6, 5, 4, 3, 2, 1, 0])"
      ]
     },
     "execution_count": 3,
     "metadata": {},
     "output_type": "execute_result"
    }
   ],
   "source": [
    "my_arange(10)"
   ]
  },
  {
   "cell_type": "code",
   "execution_count": 4,
   "id": "2f5d93d1",
   "metadata": {},
   "outputs": [
    {
     "name": "stdout",
     "output_type": "stream",
     "text": [
      "[ 0.46666667  3.84444444 -5.55555556]\n"
     ]
    }
   ],
   "source": [
    "import numpy as np\n",
    "\n",
    "A = np.array([[4, 2, 1], [1, 3, 0], [0, 5, 4]])\n",
    "B = np.array([4, 12, -3])\n",
    "X = np.linalg.inv(A).dot(B)\n",
    "print(X)"
   ]
  },
  {
   "cell_type": "code",
   "execution_count": 5,
   "id": "4fb69f5e",
   "metadata": {},
   "outputs": [
    {
     "data": {
      "text/plain": [
       "array([[10,  0,  0,  0,  0,  0,  0,  0,  0,  0,  0],\n",
       "       [ 0,  9,  0,  0,  0,  0,  0,  0,  0,  0,  0],\n",
       "       [ 0,  0,  8,  0,  0,  0,  0,  0,  0,  0,  0],\n",
       "       [ 0,  0,  0,  7,  0,  0,  0,  0,  0,  0,  0],\n",
       "       [ 0,  0,  0,  0,  6,  0,  0,  0,  0,  0,  0],\n",
       "       [ 0,  0,  0,  0,  0,  5,  0,  0,  0,  0,  0],\n",
       "       [ 0,  0,  0,  0,  0,  0,  4,  0,  0,  0,  0],\n",
       "       [ 0,  0,  0,  0,  0,  0,  0,  3,  0,  0,  0],\n",
       "       [ 0,  0,  0,  0,  0,  0,  0,  0,  2,  0,  0],\n",
       "       [ 0,  0,  0,  0,  0,  0,  0,  0,  0,  1,  0],\n",
       "       [ 0,  0,  0,  0,  0,  0,  0,  0,  0,  0,  0]])"
      ]
     },
     "execution_count": 5,
     "metadata": {},
     "output_type": "execute_result"
    }
   ],
   "source": [
    "def my_matrix(number):\n",
    "    matrix = np.diag(my_arange(int(number)))\n",
    "    return(matrix)\n",
    "matrix = my_matrix(11)\n",
    "matrix"
   ]
  },
  {
   "cell_type": "code",
   "execution_count": 6,
   "id": "f4458e4e",
   "metadata": {},
   "outputs": [
    {
     "data": {
      "text/plain": [
       "55"
      ]
     },
     "execution_count": 6,
     "metadata": {},
     "output_type": "execute_result"
    }
   ],
   "source": [
    "np.trace(matrix)"
   ]
  },
  {
   "cell_type": "code",
   "execution_count": 11,
   "id": "a4b6c662",
   "metadata": {},
   "outputs": [
    {
     "name": "stdout",
     "output_type": "stream",
     "text": [
      "Top movie: Shawshank Redemption, The (1994)\n"
     ]
    }
   ],
   "source": [
    "import pandas as pd\n",
    "import requests\n",
    "import _io\n",
    "import zipfile\n",
    "from _io import (DEFAULT_BUFFER_SIZE, BlockingIOError, UnsupportedOperation,\n",
    "                 open, open_code, FileIO, BytesIO, StringIO, BufferedReader,\n",
    "                 BufferedWriter, BufferedRWPair, BufferedRandom,\n",
    "                 IncrementalNewlineDecoder,TextIOWrapper)\n",
    "\n",
    "\n",
    "def get_zip_files():\n",
    "    response = requests.get('http://files.grouplens.org/datasets/movielens/ml-latest-small.zip')\n",
    "    return zipfile.ZipFile(BytesIO(response.content))\n",
    "\n",
    "\n",
    "def get_ratings_data_frame(zip_arch):\n",
    "    \"\"\"\n",
    "    :return: pandas data frame with movies ratings\n",
    "    \"\"\"\n",
    "    return pd.read_csv(zip_arch.open(name='ml-latest-small/ratings.csv'))\n",
    "\n",
    "\n",
    "def get_movies_data_frame(zip_arch):\n",
    "    \"\"\"\n",
    "    :return: pandas data frame with movies\n",
    "    \"\"\"\n",
    "    return pd.read_csv(zip_arch.open(name='ml-latest-small/movies.csv'))\n",
    "\n",
    "\n",
    "movies_zip = get_zip_files()\n",
    "ratings = get_ratings_data_frame(movies_zip)\n",
    "movies_info = get_movies_data_frame(movies_zip).set_index(keys='movieId', drop=False)\n",
    "\n",
    "top_films = ratings.query('rating == {}'.format(5))\n",
    "\n",
    "best_film_id = top_films['movieId'].value_counts().idxmax()\n",
    "\n",
    "print(f'Top movie: {movies_info.loc[best_film_id, \"title\"]}')\n",
    "\n"
   ]
  },
  {
   "cell_type": "code",
   "execution_count": 12,
   "id": "cddc6bfc",
   "metadata": {},
   "outputs": [
    {
     "name": "stdout",
     "output_type": "stream",
     "text": [
      "[0 1 1 0 0 0]\n"
     ]
    }
   ],
   "source": [
    "import numpy as np\n",
    "from scipy.spatial.distance import cdist\n",
    "\n",
    "users_stats = np.array(\n",
    "    [\n",
    "        [2, 1, 0, 0, 0, 0],\n",
    "        [1, 1, 2, 1, 0, 0],\n",
    "        [2, 0, 1, 0, 0, 0],\n",
    "        [1, 1, 2, 1, 0, 1],\n",
    "        [0, 0, 1, 2, 0, 0],\n",
    "        [0, 0, 0, 0, 0, 5],\n",
    "        [1, 0, 0, 0, 0, 0],\n",
    "        [0, 1, 1, 0, 0, 0],\n",
    "        [0, 0, 0, 1, 1, 3],\n",
    "        [1, 0, 0, 2, 1, 4]\n",
    "    ],\n",
    "    np.int32\n",
    ")\n",
    "\n",
    "next_user_stats = np.array([[0, 1, 2, 0, 0, 0]])\n",
    "Y = cdist(next_user_stats, users_stats, 'cosine')\n",
    "idx = np.argmin(Y)\n",
    "print(users_stats[idx, :])"
   ]
  },
  {
   "cell_type": "code",
   "execution_count": 17,
   "id": "ed704163",
   "metadata": {},
   "outputs": [
    {
     "name": "stdout",
     "output_type": "stream",
     "text": [
      "Total power consumption: 164555.0\n"
     ]
    }
   ],
   "source": [
    "power_data = pd.read_csv('power.csv')\n",
    "sub_data = power_data.query('country in (\"Latvia\", \"Lithuania\", \"Estonia\") '\n",
    "                            '& category in (4, 12, 21) & 2005 < year < 2010 & quantity >= 0')\n",
    "\n",
    "print(f\"Total power consumption: {sub_data['quantity'].sum()}\")\n",
    "\n"
   ]
  },
  {
   "cell_type": "code",
   "execution_count": null,
   "id": "1910bcbd",
   "metadata": {},
   "outputs": [],
   "source": []
  }
 ],
 "metadata": {
  "kernelspec": {
   "display_name": "Python 3 (ipykernel)",
   "language": "python",
   "name": "python3"
  },
  "language_info": {
   "codemirror_mode": {
    "name": "ipython",
    "version": 3
   },
   "file_extension": ".py",
   "mimetype": "text/x-python",
   "name": "python",
   "nbconvert_exporter": "python",
   "pygments_lexer": "ipython3",
   "version": "3.9.13"
  }
 },
 "nbformat": 4,
 "nbformat_minor": 5
}
